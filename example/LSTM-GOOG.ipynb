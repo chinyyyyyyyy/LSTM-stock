{
 "cells": [
  {
   "cell_type": "code",
   "execution_count": 2,
   "metadata": {
    "collapsed": false,
    "deletable": true,
    "editable": true
   },
   "outputs": [
    {
     "name": "stderr",
     "output_type": "stream",
     "text": [
      "/usr/local/lib/python2.7/site-packages/h5py/__init__.py:36: FutureWarning: Conversion of the second argument of issubdtype from `float` to `np.floating` is deprecated. In future, it will be treated as `np.float64 == np.dtype(float).type`.\n",
      "  from ._conv import register_converters as _register_converters\n",
      "Using TensorFlow backend.\n"
     ]
    }
   ],
   "source": [
    "#import sys\n",
    "#sys.path.append('/home/itsara/env/lib/python2.7/site-packages')\n",
    "\n",
    "import numpy as np\n",
    "import pandas as pd\n",
    "import math\n",
    "import itertools\n",
    "from sklearn import preprocessing\n",
    "from operator import itemgetter\n",
    "from sklearn.metrics import mean_squared_error\n",
    "from math import sqrt\n",
    "from keras.models import Sequential\n",
    "from keras.layers.core import Dense, Dropout, Activation\n",
    "from keras.layers.recurrent import LSTM\n",
    "import keras\n",
    "import matplotlib.pyplot as plt2"
   ]
  },
  {
   "cell_type": "code",
   "execution_count": 3,
   "metadata": {
    "collapsed": false,
    "deletable": true,
    "editable": true
   },
   "outputs": [
    {
     "data": {
      "text/html": [
       "<div>\n",
       "<table border=\"1\" class=\"dataframe\">\n",
       "  <thead>\n",
       "    <tr style=\"text-align: right;\">\n",
       "      <th></th>\n",
       "      <th>symbol</th>\n",
       "      <th>open</th>\n",
       "      <th>low</th>\n",
       "      <th>high</th>\n",
       "      <th>mv close</th>\n",
       "    </tr>\n",
       "    <tr>\n",
       "      <th>date</th>\n",
       "      <th></th>\n",
       "      <th></th>\n",
       "      <th></th>\n",
       "      <th></th>\n",
       "      <th></th>\n",
       "    </tr>\n",
       "  </thead>\n",
       "  <tbody>\n",
       "    <tr>\n",
       "      <th>2016-01-05</th>\n",
       "      <td>WLTW</td>\n",
       "      <td>123.430000</td>\n",
       "      <td>122.309998</td>\n",
       "      <td>126.250000</td>\n",
       "      <td>125.839996</td>\n",
       "    </tr>\n",
       "    <tr>\n",
       "      <th>2016-01-06</th>\n",
       "      <td>WLTW</td>\n",
       "      <td>125.239998</td>\n",
       "      <td>119.940002</td>\n",
       "      <td>125.540001</td>\n",
       "      <td>119.980003</td>\n",
       "    </tr>\n",
       "    <tr>\n",
       "      <th>2016-01-07</th>\n",
       "      <td>WLTW</td>\n",
       "      <td>116.379997</td>\n",
       "      <td>114.930000</td>\n",
       "      <td>119.739998</td>\n",
       "      <td>114.949997</td>\n",
       "    </tr>\n",
       "    <tr>\n",
       "      <th>2016-01-08</th>\n",
       "      <td>WLTW</td>\n",
       "      <td>115.480003</td>\n",
       "      <td>113.500000</td>\n",
       "      <td>117.440002</td>\n",
       "      <td>116.620003</td>\n",
       "    </tr>\n",
       "    <tr>\n",
       "      <th>2016-01-11</th>\n",
       "      <td>WLTW</td>\n",
       "      <td>117.010002</td>\n",
       "      <td>114.089996</td>\n",
       "      <td>117.330002</td>\n",
       "      <td>114.970001</td>\n",
       "    </tr>\n",
       "  </tbody>\n",
       "</table>\n",
       "</div>"
      ],
      "text/plain": [
       "           symbol        open         low        high    mv close\n",
       "date                                                             \n",
       "2016-01-05   WLTW  123.430000  122.309998  126.250000  125.839996\n",
       "2016-01-06   WLTW  125.239998  119.940002  125.540001  119.980003\n",
       "2016-01-07   WLTW  116.379997  114.930000  119.739998  114.949997\n",
       "2016-01-08   WLTW  115.480003  113.500000  117.440002  116.620003\n",
       "2016-01-11   WLTW  117.010002  114.089996  117.330002  114.970001"
      ]
     },
     "execution_count": 3,
     "metadata": {},
     "output_type": "execute_result"
    }
   ],
   "source": [
    "df = pd.read_csv(\"prices-split-adjusted.csv\", index_col = 0)\n",
    "df[\"mv close\"] = df.close\n",
    "df.drop(['volume','close'], 1, inplace=True)\n",
    "df.head()"
   ]
  },
  {
   "cell_type": "code",
   "execution_count": 4,
   "metadata": {
    "collapsed": false,
    "deletable": true,
    "editable": true
   },
   "outputs": [
    {
     "data": {
      "text/plain": [
       "['AGN', 'EOG', 'CPB', 'EVHC', 'IDXX']"
      ]
     },
     "execution_count": 4,
     "metadata": {},
     "output_type": "execute_result"
    }
   ],
   "source": [
    "symbols = list(set(df.symbol))\n",
    "symbols[:5]"
   ]
  },
  {
   "cell_type": "code",
   "execution_count": 5,
   "metadata": {
    "collapsed": false,
    "deletable": true,
    "editable": true
   },
   "outputs": [
    {
     "data": {
      "text/html": [
       "<div>\n",
       "<table border=\"1\" class=\"dataframe\">\n",
       "  <thead>\n",
       "    <tr style=\"text-align: right;\">\n",
       "      <th></th>\n",
       "      <th>open</th>\n",
       "      <th>low</th>\n",
       "      <th>high</th>\n",
       "      <th>mv close</th>\n",
       "    </tr>\n",
       "    <tr>\n",
       "      <th>date</th>\n",
       "      <th></th>\n",
       "      <th></th>\n",
       "      <th></th>\n",
       "      <th></th>\n",
       "    </tr>\n",
       "  </thead>\n",
       "  <tbody>\n",
       "    <tr>\n",
       "      <th>2010-01-04</th>\n",
       "      <td>312.304948</td>\n",
       "      <td>310.955001</td>\n",
       "      <td>313.580158</td>\n",
       "      <td>312.205308</td>\n",
       "    </tr>\n",
       "    <tr>\n",
       "      <th>2010-01-05</th>\n",
       "      <td>312.419511</td>\n",
       "      <td>309.610028</td>\n",
       "      <td>312.748278</td>\n",
       "      <td>310.830459</td>\n",
       "    </tr>\n",
       "    <tr>\n",
       "      <th>2010-01-06</th>\n",
       "      <td>311.761979</td>\n",
       "      <td>302.048370</td>\n",
       "      <td>311.761979</td>\n",
       "      <td>302.994813</td>\n",
       "    </tr>\n",
       "    <tr>\n",
       "      <th>2010-01-07</th>\n",
       "      <td>303.562685</td>\n",
       "      <td>295.218951</td>\n",
       "      <td>303.861575</td>\n",
       "      <td>295.941242</td>\n",
       "    </tr>\n",
       "    <tr>\n",
       "      <th>2010-01-08</th>\n",
       "      <td>294.895159</td>\n",
       "      <td>293.455551</td>\n",
       "      <td>300.499172</td>\n",
       "      <td>299.886470</td>\n",
       "    </tr>\n",
       "  </tbody>\n",
       "</table>\n",
       "</div>"
      ],
      "text/plain": [
       "                  open         low        high    mv close\n",
       "date                                                      \n",
       "2010-01-04  312.304948  310.955001  313.580158  312.205308\n",
       "2010-01-05  312.419511  309.610028  312.748278  310.830459\n",
       "2010-01-06  311.761979  302.048370  311.761979  302.994813\n",
       "2010-01-07  303.562685  295.218951  303.861575  295.941242\n",
       "2010-01-08  294.895159  293.455551  300.499172  299.886470"
      ]
     },
     "execution_count": 5,
     "metadata": {},
     "output_type": "execute_result"
    }
   ],
   "source": [
    "SYM = 'GOOG'\n",
    "df = df[df.symbol == SYM]\n",
    "df.drop(['symbol'],1,inplace=True)\n",
    "df.head()"
   ]
  },
  {
   "cell_type": "code",
   "execution_count": 6,
   "metadata": {
    "collapsed": false,
    "deletable": true,
    "editable": true
   },
   "outputs": [
    {
     "data": {
      "text/html": [
       "<div>\n",
       "<table border=\"1\" class=\"dataframe\">\n",
       "  <thead>\n",
       "    <tr style=\"text-align: right;\">\n",
       "      <th></th>\n",
       "      <th>open</th>\n",
       "      <th>low</th>\n",
       "      <th>high</th>\n",
       "      <th>mv close</th>\n",
       "    </tr>\n",
       "    <tr>\n",
       "      <th>date</th>\n",
       "      <th></th>\n",
       "      <th></th>\n",
       "      <th></th>\n",
       "      <th></th>\n",
       "    </tr>\n",
       "  </thead>\n",
       "  <tbody>\n",
       "    <tr>\n",
       "      <th>2010-01-04</th>\n",
       "      <td>0.157047</td>\n",
       "      <td>0.161167</td>\n",
       "      <td>0.156390</td>\n",
       "      <td>0.159399</td>\n",
       "    </tr>\n",
       "    <tr>\n",
       "      <th>2010-01-05</th>\n",
       "      <td>0.157238</td>\n",
       "      <td>0.158884</td>\n",
       "      <td>0.154995</td>\n",
       "      <td>0.157092</td>\n",
       "    </tr>\n",
       "    <tr>\n",
       "      <th>2010-01-06</th>\n",
       "      <td>0.156140</td>\n",
       "      <td>0.146049</td>\n",
       "      <td>0.153341</td>\n",
       "      <td>0.143942</td>\n",
       "    </tr>\n",
       "    <tr>\n",
       "      <th>2010-01-07</th>\n",
       "      <td>0.142436</td>\n",
       "      <td>0.134457</td>\n",
       "      <td>0.140094</td>\n",
       "      <td>0.132105</td>\n",
       "    </tr>\n",
       "    <tr>\n",
       "      <th>2010-01-08</th>\n",
       "      <td>0.127950</td>\n",
       "      <td>0.131464</td>\n",
       "      <td>0.134455</td>\n",
       "      <td>0.138726</td>\n",
       "    </tr>\n",
       "  </tbody>\n",
       "</table>\n",
       "</div>"
      ],
      "text/plain": [
       "                open       low      high  mv close\n",
       "date                                              \n",
       "2010-01-04  0.157047  0.161167  0.156390  0.159399\n",
       "2010-01-05  0.157238  0.158884  0.154995  0.157092\n",
       "2010-01-06  0.156140  0.146049  0.153341  0.143942\n",
       "2010-01-07  0.142436  0.134457  0.140094  0.132105\n",
       "2010-01-08  0.127950  0.131464  0.134455  0.138726"
      ]
     },
     "execution_count": 6,
     "metadata": {},
     "output_type": "execute_result"
    }
   ],
   "source": [
    "def normalize_data(df):\n",
    "    min_max_scaler = preprocessing.MinMaxScaler()\n",
    "    df['open'] = min_max_scaler.fit_transform(df.open.values.reshape(-1,1))\n",
    "    df['high'] = min_max_scaler.fit_transform(df.high.values.reshape(-1,1))\n",
    "    df['low'] = min_max_scaler.fit_transform(df.low.values.reshape(-1,1))\n",
    "#    df['volume'] = min_max_scaler.fit_transform(df.volume.values.reshape(-1,1))\n",
    "    df['mv close'] = min_max_scaler.fit_transform(df['mv close'].values.reshape(-1,1))\n",
    "    return df\n",
    "df = normalize_data(df)\n",
    "df.head()"
   ]
  },
  {
   "cell_type": "code",
   "execution_count": 7,
   "metadata": {
    "collapsed": true,
    "deletable": true,
    "editable": true
   },
   "outputs": [],
   "source": [
    "def load_data(stock, seq_len):\n",
    "    n_features = len(stock.columns)\n",
    "    data = stock.as_matrix() \n",
    "    sequence_length = seq_len + 1\n",
    "    result = []\n",
    "    \n",
    "    for index in range(len(data) - sequence_length):\n",
    "        result.append(data[index: index + sequence_length])\n",
    "    \n",
    "    result = np.array(result)\n",
    "    row = round(0.9 * result.shape[0])\n",
    "    train = result[:int(row), :]\n",
    "\n",
    "    x_train = train[:, :-1]\n",
    "    y_train = train[:, -1][:,-1]\n",
    "    \n",
    "    x_test = result[int(row):, :-1] \n",
    "    y_test = result[int(row):, -1][:,-1]\n",
    "\n",
    "    x_train = np.reshape(x_train, (x_train.shape[0], x_train.shape[1], n_features))\n",
    "    x_test = np.reshape(x_test, (x_test.shape[0], x_test.shape[1], n_features))  \n",
    "\n",
    "    return [x_train, y_train, x_test, y_test]"
   ]
  },
  {
   "cell_type": "code",
   "execution_count": 8,
   "metadata": {
    "collapsed": false,
    "deletable": true,
    "editable": true
   },
   "outputs": [
    {
     "name": "stdout",
     "output_type": "stream",
     "text": [
      "(array([[0.15704696, 0.16116746, 0.15638998, 0.15939908],\n",
      "       [0.15723843, 0.15888449, 0.15499506, 0.15709185],\n",
      "       [0.15613951, 0.14604929, 0.15334121, 0.14394234],\n",
      "       [0.14243617, 0.13445699, 0.14009362, 0.13210528],\n",
      "       [0.12795029, 0.13146379, 0.13445546, 0.13872603]]), 0.1379653023031744)\n"
     ]
    }
   ],
   "source": [
    "n_features = 4\n",
    "prev_days = 5\n",
    "X_train, y_train, X_test, y_test = load_data(df, prev_days)\n",
    "print (X_train[0], y_train[0])"
   ]
  },
  {
   "cell_type": "code",
   "execution_count": 9,
   "metadata": {
    "collapsed": true,
    "deletable": true,
    "editable": true
   },
   "outputs": [],
   "source": [
    "def build_model(layers):\n",
    "    p = 0.2\n",
    "    model = Sequential()\n",
    "\n",
    "    model.add(LSTM(256, input_shape=(layers[1], layers[0]), return_sequences=True))\n",
    "    model.add(Dropout(p))\n",
    "\n",
    "    model.add(LSTM(256, input_shape=(layers[1], layers[0]), return_sequences=False))\n",
    "    model.add(Dropout(p))\n",
    "\n",
    "    model.add(Dense(128,activation='relu'))\n",
    "    model.add(Dense(1,activation='linear'))\n",
    "\n",
    "    model.compile(loss='mse',optimizer='adam', metrics=['mse'])\n",
    "\n",
    "    return model\n",
    "\n",
    "model = build_model([n_features, prev_days, 1])"
   ]
  },
  {
   "cell_type": "code",
   "execution_count": 10,
   "metadata": {
    "collapsed": false,
    "deletable": true,
    "editable": true
   },
   "outputs": [
    {
     "name": "stdout",
     "output_type": "stream",
     "text": [
      "Train on 1422 samples, validate on 158 samples\n",
      "Epoch 1/10\n",
      "1422/1422 [==============================] - 6s 4ms/step - loss: 0.0511 - mean_squared_error: 0.0511 - val_loss: 0.0246 - val_mean_squared_error: 0.02\n",
      "Epoch 2/10\n",
      "1422/1422 [==============================] - 2s 1ms/step - loss: 0.0088 - mean_squared_error: 0.0088 - val_loss: 0.0723 - val_mean_squared_error: 0.07\n",
      "Epoch 3/10\n",
      "1422/1422 [==============================] - 3s 2ms/step - loss: 0.0053 - mean_squared_error: 0.0053 - val_loss: 0.0081 - val_mean_squared_error: 0.00\n",
      "Epoch 4/10\n",
      "1422/1422 [==============================] - 2s 2ms/step - loss: 0.0030 - mean_squared_error: 0.0030 - val_loss: 0.0206 - val_mean_squared_error: 0.02\n",
      "Epoch 5/10\n",
      "1422/1422 [==============================] - 2s 2ms/step - loss: 0.0018 - mean_squared_error: 0.0018 - val_loss: 0.0020 - val_mean_squared_error: 0.00\n",
      "Epoch 6/10\n",
      "1422/1422 [==============================] - 2s 2ms/step - loss: 0.0013 - mean_squared_error: 0.0013 - val_loss: 0.0031 - val_mean_squared_error: 0.00\n",
      "Epoch 7/10\n",
      "1422/1422 [==============================] - 2s 1ms/step - loss: 0.0012 - mean_squared_error: 0.0012 - val_loss: 9.3396e-04 - val_mean_squared_error: 9.3396e-\n",
      "Epoch 8/10\n",
      "1422/1422 [==============================] - 2s 2ms/step - loss: 9.2634e-04 - mean_squared_error: 9.2634e-04 - val_loss: 0.0013 - val_mean_squared_error: 0.00\n",
      "Epoch 9/10\n",
      "1422/1422 [==============================] - 2s 1ms/step - loss: 7.5317e-04 - mean_squared_error: 7.5317e-04 - val_loss: 8.6579e-04 - val_mean_squared_error: 8.6579e-\n",
      "Epoch 10/10\n",
      "1422/1422 [==============================] - 2s 1ms/step - loss: 7.2351e-04 - mean_squared_error: 7.2351e-04 - val_loss: 0.0014 - val_mean_squared_error: 0.00\n"
     ]
    },
    {
     "data": {
      "text/plain": [
       "<keras.callbacks.History at 0x10af11f90>"
      ]
     },
     "execution_count": 10,
     "metadata": {},
     "output_type": "execute_result"
    }
   ],
   "source": [
    "model.fit(X_train, y_train, batch_size=256, epochs=10, validation_split=0.1, verbose=1)"
   ]
  },
  {
   "cell_type": "code",
   "execution_count": 11,
   "metadata": {
    "collapsed": false,
    "deletable": true,
    "editable": true
   },
   "outputs": [],
   "source": [
    "diff=[]\n",
    "ratio=[]\n",
    "predict = model.predict(X_test)\n",
    "for d in range(len(y_test)):\n",
    "    pred = predict[d][0]\n",
    "    ratio.append((y_test[d]/pred)-1)\n",
    "    diff.append(abs(y_test[d]- pred))"
   ]
  },
  {
   "cell_type": "code",
   "execution_count": 12,
   "metadata": {
    "collapsed": false,
    "deletable": true,
    "editable": true
   },
   "outputs": [],
   "source": [
    "df = pd.read_csv(\"prices-split-adjusted.csv\", index_col = 0)\n",
    "df[\"mv close\"] = df.close\n",
    "df.drop(['volume', 'close'], 1, inplace=True)\n",
    "df = df[df.symbol == SYM]\n",
    "df.drop(['symbol'],1,inplace=True)\n",
    "\n",
    "def denormalize(df, normalized_value): \n",
    "    df = df['mv close'].values.reshape(-1,1)\n",
    "    normalized_value = normalized_value.reshape(-1,1)\n",
    "\n",
    "    min_max_scaler = preprocessing.MinMaxScaler()\n",
    "    _ = min_max_scaler.fit_transform(df)\n",
    "    denorm = min_max_scaler.inverse_transform(normalized_value)\n",
    "    return denorm\n",
    "\n",
    "new_pred = denormalize(df, predict)\n",
    "newy_test = denormalize(df, y_test)"
   ]
  },
  {
   "cell_type": "code",
   "execution_count": 13,
   "metadata": {
    "collapsed": false,
    "deletable": true,
    "editable": true
   },
   "outputs": [
    {
     "name": "stdout",
     "output_type": "stream",
     "text": [
      "MSE: 0.00116 (RMSE: 0.03)\n"
     ]
    },
    {
     "data": {
      "text/plain": [
       "(0.0011562948453832757, 0.03400433568507516)"
      ]
     },
     "execution_count": 13,
     "metadata": {},
     "output_type": "execute_result"
    }
   ],
   "source": [
    "def evaluation(model, X_test, y_test):\n",
    "    score = model.evaluate(X_test, y_test, verbose=0)\n",
    "    print('MSE: %.5f (RMSE: %.2f)' % (score[0], math.sqrt(score[0])))\n",
    "    return score[0], math.sqrt(score[0])\n",
    "\n",
    "evaluation(model, X_test, y_test)"
   ]
  },
  {
   "cell_type": "code",
   "execution_count": 14,
   "metadata": {
    "collapsed": false,
    "deletable": true,
    "editable": true
   },
   "outputs": [
    {
     "name": "stdout",
     "output_type": "stream",
     "text": [
      "Buy @[712.900024]\n",
      "Sell @[706.630005]\n",
      "Balance: [99120.49112233]\n",
      "Buy @[724.119995]\n",
      "Sell @[728.280029]\n",
      "Balance: [99689.93350206]\n",
      "Buy @[694.950012]\n",
      "Sell @[772.080017]\n",
      "Balance: [110754.16105324]\n",
      "Buy @[775.320007]\n",
      "Sell @[762.48999]\n",
      "Balance: [108921.39812142]\n",
      "Buy @[776.219971]\n",
      "Sell @[772.559998]\n",
      "Balance: [108407.82028119]\n",
      "Buy @[796.969971]\n",
      "Sell @[783.609985]\n",
      "Balance: [106590.52852121]\n",
      "Buy @[762.559998]\n",
      "Sell @[758.48999]\n",
      "Balance: [106021.6233794]\n",
      "Buy @[769.200012]\n",
      "Sell @[762.52002]\n",
      "Balance: [105100.89588986]\n",
      "Buy @[789.289978]\n",
      "Balance:[105100.89588986]\n"
     ]
    },
    {
     "data": {
      "text/plain": [
       "<matplotlib.collections.PathCollection at 0x10d6cd6d0>"
      ]
     },
     "execution_count": 14,
     "metadata": {},
     "output_type": "execute_result"
    }
   ],
   "source": [
    "balance = 100000.0\n",
    "cash_list= []\n",
    "volume = 0\n",
    "buyx = []\n",
    "buyy =[]\n",
    "selx = []\n",
    "sely = []\n",
    "for i in range(1,len(new_pred)):\n",
    "    prediction= new_pred[i]\n",
    "    if(prediction > new_pred[i-1] * 1.002 and volume == 0):\n",
    "        volume = balance / newy_test[i]\n",
    "        buyx.append(i)\n",
    "        buyy.append(newy_test[i])\n",
    "        print \"Buy @\" + str(newy_test[i])\n",
    "\n",
    "    if(volume > 0 and prediction * 1.002 < new_pred[i-1]):\n",
    "        balance = volume * newy_test[i]\n",
    "        volume = 0\n",
    "        selx.append(i)\n",
    "        sely.append(newy_test[i])\n",
    "        print \"Sell @\" + str(newy_test[i])\n",
    "        print \"Balance: \" + str(balance)\n",
    "\n",
    "print \"Balance:\" + str(balance)\n",
    "plt2.scatter(buyx, buyy)\n",
    "plt2.scatter(selx, sely)"
   ]
  },
  {
   "cell_type": "code",
   "execution_count": 15,
   "metadata": {
    "collapsed": false,
    "deletable": true,
    "editable": true
   },
   "outputs": [
    {
     "data": {
      "image/png": "[encoded data removed]",
      "text/plain": [
       "<Figure size 432x288 with 1 Axes>"
      ]
     },
     "metadata": {},
     "output_type": "display_data"
    }
   ],
   "source": [
    "plt2.plot(new_pred,color='red', label='Prediction')\n",
    "plt2.plot(newy_test,color='blue', label='Actual')\n",
    "plt2.legend(loc='best')\n",
    "plt2.scatter(buyx, buyy, color='green')\n",
    "plt2.scatter(selx, sely, color='yellow')\n",
    "plt2.show()"
   ]
  },
  {
   "cell_type": "code",
   "execution_count": null,
   "metadata": {
    "collapsed": true,
    "deletable": true,
    "editable": true
   },
   "outputs": [],
   "source": []
  }
 ],
 "metadata": {
  "kernelspec": {
   "display_name": "Python 3",
   "language": "python",
   "name": "python3"
  },
  "language_info": {
   "codemirror_mode": {
    "name": "ipython",
    "version": 3
   },
   "file_extension": ".py",
   "mimetype": "text/x-python",
   "name": "python",
   "nbconvert_exporter": "python",
   "pygments_lexer": "ipython3",
   "version": "3.6.1"
  }
 },
 "nbformat": 4,
 "nbformat_minor": 2
}
